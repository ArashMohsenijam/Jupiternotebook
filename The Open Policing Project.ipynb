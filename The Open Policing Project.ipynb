{
 "cells": [
  {
   "cell_type": "markdown",
   "metadata": {},
   "source": [
    "# The Open Policing Project\n",
    "\n",
    "Currently, a comprehensive, national repository detailing interactions between police and the public doesn’t exist. That’s why the Stanford Open Policing Project is collecting and standardizing data on vehicle and pedestrian stops from law enforcement departments across the country — and we’re making that information freely available. We’ve already gathered over 200 million records from dozens of state and local police departments across the country.\n",
    "\n",
    "We, the Stanford Open Policing Project, are an interdisciplinary team of researchers and journalists at Stanford University. We are committed to combining the academic rigor of statistical analysis with the explanatory power of data journalism."
   ]
  },
  {
   "cell_type": "markdown",
   "metadata": {},
   "source": [
    "## 1. Examining the dataset"
   ]
  },
  {
   "cell_type": "code",
   "execution_count": 3,
   "metadata": {},
   "outputs": [
    {
     "name": "stdout",
     "output_type": "stream",
     "text": [
      "              id state   stop_date stop_time location_raw  county_name  \\\n",
      "0  RI-2005-00001    RI  2005-01-02     01:55      Zone K1          NaN   \n",
      "1  RI-2005-00002    RI  2005-01-02     20:30      Zone X4          NaN   \n",
      "2  RI-2005-00003    RI  2005-01-04     11:30      Zone X1          NaN   \n",
      "3  RI-2005-00004    RI  2005-01-04     12:55      Zone X4          NaN   \n",
      "4  RI-2005-00005    RI  2005-01-06     01:30      Zone X4          NaN   \n",
      "\n",
      "   county_fips  fine_grained_location police_department driver_gender  ...  \\\n",
      "0          NaN                    NaN               600             M  ...   \n",
      "1          NaN                    NaN               500             M  ...   \n",
      "2          NaN                    NaN                 0           NaN  ...   \n",
      "3          NaN                    NaN               500             M  ...   \n",
      "4          NaN                    NaN               500             M  ...   \n",
      "\n",
      "   search_conducted  search_type_raw search_type contraband_found  \\\n",
      "0             False              NaN         NaN            False   \n",
      "1             False              NaN         NaN            False   \n",
      "2             False              NaN         NaN            False   \n",
      "3             False              NaN         NaN            False   \n",
      "4             False              NaN         NaN            False   \n",
      "\n",
      "  stop_outcome is_arrested stop_duration out_of_state drugs_related_stop  \\\n",
      "0     Citation       False      0-15 Min        False              False   \n",
      "1     Citation       False     16-30 Min        False              False   \n",
      "2          NaN         NaN           NaN          NaN              False   \n",
      "3     Citation       False      0-15 Min        False              False   \n",
      "4     Citation       False      0-15 Min        False              False   \n",
      "\n",
      "   district  \n",
      "0   Zone K1  \n",
      "1   Zone X4  \n",
      "2   Zone X1  \n",
      "3   Zone X4  \n",
      "4   Zone X4  \n",
      "\n",
      "[5 rows x 26 columns]\n",
      "id                            0\n",
      "state                         0\n",
      "stop_date                    10\n",
      "stop_time                    10\n",
      "location_raw                  0\n",
      "county_name              509681\n",
      "county_fips              509681\n",
      "fine_grained_location    509681\n",
      "police_department            10\n",
      "driver_gender             29097\n",
      "driver_age_raw            29049\n",
      "driver_age                30695\n",
      "driver_race_raw           29073\n",
      "driver_race               29073\n",
      "violation_raw             29073\n",
      "violation                 29073\n",
      "search_conducted             10\n",
      "search_type_raw          491919\n",
      "search_type              491919\n",
      "contraband_found              0\n",
      "stop_outcome              29073\n",
      "is_arrested               29073\n",
      "stop_duration             29073\n",
      "out_of_state              29881\n",
      "drugs_related_stop            0\n",
      "district                      0\n",
      "dtype: int64\n"
     ]
    }
   ],
   "source": [
    "# Import the pandas library as pd\n",
    "import pandas as pd\n",
    "\n",
    "# Read 'police.csv' into a DataFrame named ri\n",
    "ri = pd.read_csv(\"police.csv\")\n",
    "\n",
    "# Examine the head of the DataFrame\n",
    "print(ri.head())\n",
    "\n",
    "# Count the number of missing values in each column\n",
    "print(ri.isnull().sum())"
   ]
  },
  {
   "cell_type": "markdown",
   "metadata": {},
   "source": [
    "## 2. Dropping columns"
   ]
  },
  {
   "cell_type": "code",
   "execution_count": 2,
   "metadata": {},
   "outputs": [
    {
     "name": "stdout",
     "output_type": "stream",
     "text": [
      "(509681, 26)\n",
      "(509681, 24)\n"
     ]
    }
   ],
   "source": [
    "# Examine the shape of the DataFrame\n",
    "print(ri.shape)\n",
    "\n",
    "# Drop the 'county_name' and 'state' columns\n",
    "ri.drop(['county_name', 'state'], axis='columns', inplace=True)\n",
    "\n",
    "# Examine the shape of the DataFrame (again)\n",
    "print(ri.shape)"
   ]
  },
  {
   "cell_type": "markdown",
   "metadata": {},
   "source": [
    "## 3. Dropping rows"
   ]
  },
  {
   "cell_type": "code",
   "execution_count": 4,
   "metadata": {},
   "outputs": [
    {
     "name": "stdout",
     "output_type": "stream",
     "text": [
      "id                            0\n",
      "state                         0\n",
      "stop_date                    10\n",
      "stop_time                    10\n",
      "location_raw                  0\n",
      "county_name              509681\n",
      "county_fips              509681\n",
      "fine_grained_location    509681\n",
      "police_department            10\n",
      "driver_gender             29097\n",
      "driver_age_raw            29049\n",
      "driver_age                30695\n",
      "driver_race_raw           29073\n",
      "driver_race               29073\n",
      "violation_raw             29073\n",
      "violation                 29073\n",
      "search_conducted             10\n",
      "search_type_raw          491919\n",
      "search_type              491919\n",
      "contraband_found              0\n",
      "stop_outcome              29073\n",
      "is_arrested               29073\n",
      "stop_duration             29073\n",
      "out_of_state              29881\n",
      "drugs_related_stop            0\n",
      "district                      0\n",
      "dtype: int64\n",
      "id                            0\n",
      "state                         0\n",
      "stop_date                     0\n",
      "stop_time                     0\n",
      "location_raw                  0\n",
      "county_name              480584\n",
      "county_fips              480584\n",
      "fine_grained_location    480584\n",
      "police_department             0\n",
      "driver_gender                 0\n",
      "driver_age_raw                1\n",
      "driver_age                 1638\n",
      "driver_race_raw               0\n",
      "driver_race                   0\n",
      "violation_raw                 0\n",
      "violation                     0\n",
      "search_conducted              0\n",
      "search_type_raw          462822\n",
      "search_type              462822\n",
      "contraband_found              0\n",
      "stop_outcome                  0\n",
      "is_arrested                   0\n",
      "stop_duration                 0\n",
      "out_of_state                808\n",
      "drugs_related_stop            0\n",
      "district                      0\n",
      "dtype: int64\n",
      "(480584, 26)\n"
     ]
    }
   ],
   "source": [
    "# Count the number of missing values in each column\n",
    "print(ri.isnull().sum())\n",
    "\n",
    "# Drop all rows that are missing 'driver_gender'\n",
    "ri.dropna(subset=['driver_gender'], inplace=True)\n",
    "\n",
    "# Count the number of missing values in each column (again)\n",
    "print(ri.isnull().sum())\n",
    "\n",
    "# Examine the shape of the DataFrame\n",
    "print(ri.shape)"
   ]
  },
  {
   "cell_type": "markdown",
   "metadata": {},
   "source": [
    "## 4. Fixing a data type"
   ]
  },
  {
   "cell_type": "code",
   "execution_count": 5,
   "metadata": {},
   "outputs": [
    {
     "name": "stdout",
     "output_type": "stream",
     "text": [
      "object\n",
      "bool\n"
     ]
    }
   ],
   "source": [
    "# Examine the head of the 'is_arrested' column\n",
    "print(ri.is_arrested.dtype)\n",
    "\n",
    "# Change the data type of 'is_arrested' to 'bool'\n",
    "ri['is_arrested'] = ri.is_arrested.astype('bool')\n",
    "\n",
    "# Check the data type of 'is_arrested' \n",
    "print(ri.is_arrested.dtype)"
   ]
  },
  {
   "cell_type": "markdown",
   "metadata": {},
   "source": [
    "## 5. Combining object columns"
   ]
  },
  {
   "cell_type": "code",
   "execution_count": 7,
   "metadata": {},
   "outputs": [
    {
     "name": "stdout",
     "output_type": "stream",
     "text": [
      "id                               object\n",
      "state                            object\n",
      "stop_date                        object\n",
      "stop_time                        object\n",
      "location_raw                     object\n",
      "county_name                     float64\n",
      "county_fips                     float64\n",
      "fine_grained_location           float64\n",
      "police_department                object\n",
      "driver_gender                    object\n",
      "driver_age_raw                  float64\n",
      "driver_age                      float64\n",
      "driver_race_raw                  object\n",
      "driver_race                      object\n",
      "violation_raw                    object\n",
      "violation                        object\n",
      "search_conducted                 object\n",
      "search_type_raw                  object\n",
      "search_type                      object\n",
      "contraband_found                   bool\n",
      "stop_outcome                     object\n",
      "is_arrested                        bool\n",
      "stop_duration                    object\n",
      "out_of_state                     object\n",
      "drugs_related_stop                 bool\n",
      "district                         object\n",
      "stop_datetime            datetime64[ns]\n",
      "dtype: object\n"
     ]
    }
   ],
   "source": [
    "# Concatenate 'stop_date' and 'stop_time' (separated by a space)\n",
    "combined = ri.stop_date.str.cat(ri.stop_time,sep=' ')\n",
    "\n",
    "# Convert 'combined' to datetime format\n",
    "ri['stop_datetime'] = pd.to_datetime(combined)\n",
    "\n",
    "# Examine the data types of the DataFrame\n",
    "print(ri.dtypes)"
   ]
  },
  {
   "cell_type": "markdown",
   "metadata": {},
   "source": [
    "## 6. Setting the index"
   ]
  },
  {
   "cell_type": "code",
   "execution_count": 8,
   "metadata": {},
   "outputs": [
    {
     "name": "stdout",
     "output_type": "stream",
     "text": [
      "DatetimeIndex(['2005-01-02 01:55:00', '2005-01-02 20:30:00',\n",
      "               '2005-01-04 12:55:00', '2005-01-06 01:30:00',\n",
      "               '2005-01-12 08:05:00', '2005-01-18 08:15:00',\n",
      "               '2005-01-18 17:13:00', '2005-01-23 23:15:00',\n",
      "               '2005-01-24 20:32:00', '2005-02-09 03:05:00',\n",
      "               ...\n",
      "               '2015-12-31 22:10:00', '2015-12-31 22:14:00',\n",
      "               '2015-12-31 22:26:00', '2015-12-31 22:38:00',\n",
      "               '2015-12-31 22:39:00', '2015-12-31 22:46:00',\n",
      "               '2015-12-31 22:47:00', '2015-12-31 23:08:00',\n",
      "               '2015-12-31 23:44:00', '2015-12-31 23:48:00'],\n",
      "              dtype='datetime64[ns]', name='stop_datetime', length=480584, freq=None)\n",
      "Index(['id', 'state', 'stop_date', 'stop_time', 'location_raw', 'county_name',\n",
      "       'county_fips', 'fine_grained_location', 'police_department',\n",
      "       'driver_gender', 'driver_age_raw', 'driver_age', 'driver_race_raw',\n",
      "       'driver_race', 'violation_raw', 'violation', 'search_conducted',\n",
      "       'search_type_raw', 'search_type', 'contraband_found', 'stop_outcome',\n",
      "       'is_arrested', 'stop_duration', 'out_of_state', 'drugs_related_stop',\n",
      "       'district'],\n",
      "      dtype='object')\n"
     ]
    }
   ],
   "source": [
    "# Set 'stop_datetime' as the index\n",
    "ri.set_index(keys = 'stop_datetime', inplace=True)\n",
    "\n",
    "# Examine the index\n",
    "print(ri.index)\n",
    "\n",
    "# Examine the columns\n",
    "print(ri.columns)"
   ]
  },
  {
   "cell_type": "markdown",
   "metadata": {},
   "source": [
    "## 7. Examining traffic violations"
   ]
  },
  {
   "cell_type": "code",
   "execution_count": 24,
   "metadata": {},
   "outputs": [
    {
     "name": "stdout",
     "output_type": "stream",
     "text": [
      "Speeding               268736\n",
      "Moving violation        90228\n",
      "Equipment               61250\n",
      "Other                   24216\n",
      "Registration/plates     19830\n",
      "Seat belt               16324\n",
      "Name: violation, dtype: int64\n",
      "Speeding               0.559186\n",
      "Moving violation       0.187747\n",
      "Equipment              0.127449\n",
      "Other                  0.050389\n",
      "Registration/plates    0.041262\n",
      "Seat belt              0.033967\n",
      "Name: violation, dtype: float64\n"
     ]
    }
   ],
   "source": [
    "# Count the unique values in 'violation'\n",
    "print(ri.violation.value_counts())\n",
    "\n",
    "# Express the counts as proportions\n",
    "print(ri.violation.value_counts(normalize=True))"
   ]
  },
  {
   "cell_type": "markdown",
   "metadata": {},
   "source": [
    "## 8. Comparing violations by gender"
   ]
  },
  {
   "cell_type": "code",
   "execution_count": 25,
   "metadata": {},
   "outputs": [
    {
     "name": "stdout",
     "output_type": "stream",
     "text": [
      "Speeding               0.657308\n",
      "Moving violation       0.136581\n",
      "Equipment              0.107055\n",
      "Registration/plates    0.043077\n",
      "Other                  0.028908\n",
      "Seat belt              0.027071\n",
      "Name: violation, dtype: float64\n",
      "Speeding               0.522364\n",
      "Moving violation       0.206948\n",
      "Equipment              0.135102\n",
      "Other                  0.058450\n",
      "Registration/plates    0.040581\n",
      "Seat belt              0.036555\n",
      "Name: violation, dtype: float64\n"
     ]
    }
   ],
   "source": [
    "# Create a DataFrame of female drivers\n",
    "female = ri[ri.driver_gender=='F']\n",
    "\n",
    "# Create a DataFrame of male drivers\n",
    "male = ri[ri.driver_gender=='M']\n",
    "\n",
    "# Compute the violations by female drivers (as proportions)\n",
    "print(female.violation.value_counts(normalize=True))\n",
    "\n",
    "# Compute the violations by male drivers (as proportions)\n",
    "print(male.violation.value_counts(normalize=True))"
   ]
  },
  {
   "cell_type": "markdown",
   "metadata": {},
   "source": [
    "## 9. Comparing speeding outcomes by gender"
   ]
  },
  {
   "cell_type": "code",
   "execution_count": 26,
   "metadata": {},
   "outputs": [
    {
     "name": "stdout",
     "output_type": "stream",
     "text": [
      "Citation            0.953247\n",
      "Warning             0.039003\n",
      "Arrest Driver       0.005290\n",
      "Arrest Passenger    0.001033\n",
      "N/D                 0.000905\n",
      "No Action           0.000522\n",
      "Name: stop_outcome, dtype: float64\n",
      "Citation            0.944636\n",
      "Warning             0.036086\n",
      "Arrest Driver       0.015767\n",
      "Arrest Passenger    0.001265\n",
      "N/D                 0.001183\n",
      "No Action           0.001063\n",
      "Name: stop_outcome, dtype: float64\n"
     ]
    }
   ],
   "source": [
    "# Create a DataFrame of female drivers stopped for speeding\n",
    "female_and_speeding = ri[(ri.driver_gender==\"F\")&(ri.violation =='Speeding')]\n",
    "\n",
    "# Create a DataFrame of male drivers stopped for speeding\n",
    "male_and_speeding = ri[(ri.driver_gender==\"M\")&(ri.violation =='Speeding')]\n",
    "\n",
    "# Compute the stop outcomes for female drivers (as proportions)\n",
    "print(female_and_speeding.stop_outcome.value_counts(normalize=True))\n",
    "\n",
    "# Compute the stop outcomes for male drivers (as proportions)\n",
    "print(male_and_speeding.stop_outcome.value_counts(normalize=True))"
   ]
  },
  {
   "cell_type": "markdown",
   "metadata": {},
   "source": [
    "## 10. Calculating the search rate"
   ]
  },
  {
   "cell_type": "code",
   "execution_count": 27,
   "metadata": {},
   "outputs": [
    {
     "name": "stdout",
     "output_type": "stream",
     "text": [
      "object\n",
      "False    0.963041\n",
      "True     0.036959\n",
      "Name: search_conducted, dtype: float64\n",
      "0.036959199640437465\n"
     ]
    }
   ],
   "source": [
    "# Check the data type of 'search_conducted'\n",
    "print(ri.search_conducted.dtype)\n",
    "\n",
    "# Calculate the search rate by counting the values\n",
    "print(ri.search_conducted.value_counts(normalize=True))\n",
    "\n",
    "# Calculate the search rate by taking the mean\n",
    "print(ri.search_conducted.mean())"
   ]
  },
  {
   "cell_type": "markdown",
   "metadata": {},
   "source": [
    "## 11. Comparing search rates by gender"
   ]
  },
  {
   "cell_type": "code",
   "execution_count": 60,
   "metadata": {},
   "outputs": [
    {
     "name": "stdout",
     "output_type": "stream",
     "text": [
      "0.018751239152648355\n",
      "0.04379217389811301\n",
      "driver_gender\n",
      "F     2459\n",
      "M    15303\n",
      "Name: search_conducted, dtype: int64\n"
     ]
    }
   ],
   "source": [
    "# Calculate the search rate for female drivers\n",
    "print(ri[ri.driver_gender=='F'].search_conducted.mean())\n",
    "\n",
    "# Calculate the search rate for male drivers\n",
    "print(ri[ri.driver_gender=='M'].search_conducted.mean())\n",
    "\n",
    "# Calculate the search rate for both groups simultaneously\n",
    "print(ri.groupby(by='driver_gender').search_conducted.sum())"
   ]
  },
  {
   "cell_type": "markdown",
   "metadata": {},
   "source": [
    "## 12. Adding a second factor to the analysis"
   ]
  },
  {
   "cell_type": "code",
   "execution_count": 63,
   "metadata": {},
   "outputs": [
    {
     "name": "stdout",
     "output_type": "stream",
     "text": [
      "driver_gender  violation          \n",
      "F              Equipment               565\n",
      "               Moving violation        681\n",
      "               Other                   174\n",
      "               Registration/plates     309\n",
      "               Seat belt                63\n",
      "               Speeding                667\n",
      "M              Equipment              3348\n",
      "               Moving violation       4278\n",
      "               Other                   942\n",
      "               Registration/plates    1469\n",
      "               Seat belt               405\n",
      "               Speeding               4861\n",
      "Name: search_conducted, dtype: int64\n",
      "violation            driver_gender\n",
      "Equipment            F                 565\n",
      "                     M                3348\n",
      "Moving violation     F                 681\n",
      "                     M                4278\n",
      "Other                F                 174\n",
      "                     M                 942\n",
      "Registration/plates  F                 309\n",
      "                     M                1469\n",
      "Seat belt            F                  63\n",
      "                     M                 405\n",
      "Speeding             F                 667\n",
      "                     M                4861\n",
      "Name: search_conducted, dtype: int64\n"
     ]
    }
   ],
   "source": [
    "# Calculate the search rate for each combination of gender and violation\n",
    "print(ri.groupby(['driver_gender','violation']).search_conducted.sum())\n",
    "\n",
    "# Reverse the ordering to group by violation before gender\n",
    "print(ri.groupby(['violation','driver_gender']).search_conducted.sum())"
   ]
  },
  {
   "cell_type": "markdown",
   "metadata": {},
   "source": [
    "## 13.  Counting protective frisks"
   ]
  },
  {
   "cell_type": "code",
   "execution_count": 64,
   "metadata": {},
   "outputs": [
    {
     "name": "stdout",
     "output_type": "stream",
     "text": [
      "Incident to Arrest                                          6998\n",
      "Probable Cause                                              4989\n",
      "Reasonable Suspicion                                        1141\n",
      "Inventory                                                   1101\n",
      "Protective Frisk                                             879\n",
      "Incident to Arrest,Inventory                                 649\n",
      "Incident to Arrest,Probable Cause                            552\n",
      "Probable Cause,Reasonable Suspicion                          334\n",
      "Probable Cause,Protective Frisk                              221\n",
      "Incident to Arrest,Protective Frisk                          158\n",
      "Incident to Arrest,Inventory,Probable Cause                  151\n",
      "Inventory,Probable Cause                                     132\n",
      "Protective Frisk,Reasonable Suspicion                         83\n",
      "Incident to Arrest,Inventory,Protective Frisk                 77\n",
      "Incident to Arrest,Probable Cause,Protective Frisk            74\n",
      "Inventory,Protective Frisk                                    52\n",
      "Incident to Arrest,Reasonable Suspicion                       49\n",
      "Probable Cause,Protective Frisk,Reasonable Suspicion          31\n",
      "Incident to Arrest,Probable Cause,Reasonable Suspicion        31\n",
      "Inventory,Reasonable Suspicion                                17\n",
      "Inventory,Probable Cause,Protective Frisk                     14\n",
      "Incident to Arrest,Inventory,Reasonable Suspicion             12\n",
      "Incident to Arrest,Protective Frisk,Reasonable Suspicion       8\n",
      "Inventory,Probable Cause,Reasonable Suspicion                  8\n",
      "Inventory,Protective Frisk,Reasonable Suspicion                1\n",
      "Name: search_type, dtype: int64\n",
      "bool\n",
      "1598\n"
     ]
    }
   ],
   "source": [
    "# Count the 'search_type' values\n",
    "print(ri.search_type.value_counts())\n",
    "\n",
    "# Check if 'search_type' contains the string 'Protective Frisk'\n",
    "ri['frisk'] = ri.search_type.str.contains('Protective Frisk', na=False)\n",
    "\n",
    "# Check the data type of 'frisk'\n",
    "print(ri['frisk'].dtype)\n",
    "\n",
    "# Take the sum of 'frisk'\n",
    "print(ri['frisk'].sum())"
   ]
  },
  {
   "cell_type": "markdown",
   "metadata": {},
   "source": [
    "## 14. Comparing frisk rates by gender"
   ]
  },
  {
   "cell_type": "code",
   "execution_count": 65,
   "metadata": {},
   "outputs": [
    {
     "name": "stdout",
     "output_type": "stream",
     "text": [
      "0.08996734601959239\n",
      "driver_gender\n",
      "F    0.066694\n",
      "M    0.093707\n",
      "Name: frisk, dtype: float64\n"
     ]
    }
   ],
   "source": [
    "# Create a DataFrame of stops in which a search was conducted\n",
    "searched = ri[ri.search_conducted == True]\n",
    "\n",
    "# Calculate the overall frisk rate by taking the mean of 'frisk'\n",
    "print(searched.frisk.mean())\n",
    "\n",
    "# Calculate the frisk rate for each gender\n",
    "print(searched.groupby('driver_gender').frisk.mean())"
   ]
  },
  {
   "cell_type": "code",
   "execution_count": null,
   "metadata": {},
   "outputs": [],
   "source": []
  }
 ],
 "metadata": {
  "kernelspec": {
   "display_name": "Python 3",
   "language": "python",
   "name": "python3"
  },
  "language_info": {
   "codemirror_mode": {
    "name": "ipython",
    "version": 3
   },
   "file_extension": ".py",
   "mimetype": "text/x-python",
   "name": "python",
   "nbconvert_exporter": "python",
   "pygments_lexer": "ipython3",
   "version": "3.7.4"
  }
 },
 "nbformat": 4,
 "nbformat_minor": 2
}
